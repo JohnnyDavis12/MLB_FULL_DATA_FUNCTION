{
 "cells": [
  {
   "cell_type": "code",
   "execution_count": null,
   "metadata": {},
   "outputs": [],
   "source": [
    "#importing libraries\n",
    "import pandas as pd\n",
    "import pickle\n",
    "from pandas import DataFrame, Series\n",
    "import numpy as np\n",
    "import seaborn as sns\n",
    "import statsmodels.api as sm\n",
    "import matplotlib.pyplot as plt\n",
    "import pybaseball as pyb\n",
    "from pybaseball import statcast\n",
    "import xgboost as xgb\n",
    "import numpy as np\n",
    "from scipy.stats import rankdata \n",
    "import statsmodels.api as sm\n",
    "import statsmodels.formula.api as smf\n",
    "from scipy import stats\n",
    "import matplotlib.lines \n",
    "from matplotlib.lines import Line2D"
   ]
  },
  {
   "cell_type": "code",
   "execution_count": null,
   "metadata": {},
   "outputs": [],
   "source": [
    "#reading the data from Baseball Savant\n",
    "df = statcast(start_dt='2022-04-01', end_dt='2022-10-5')"
   ]
  },
  {
   "cell_type": "code",
   "execution_count": null,
   "metadata": {},
   "outputs": [],
   "source": [
    "#saving the data to a csv file\n",
    "#Findins the columns in the data\n",
    "pyb.cache.enable()"
   ]
  },
  {
   "cell_type": "code",
   "execution_count": null,
   "metadata": {},
   "outputs": [],
   "source": [
    "#remove columns that are not needed\n",
    "df = df[['game_date','player_name','p_throws','pitch_type','release_speed','release_spin_rate','pfx_x',\n",
    "       'pfx_z', 'release_pos_x','release_pos_z','release_pos_y', 'release_extension','plate_x', 'plate_z','events',\n",
    "       'description','batter','hit_distance_sc', 'launch_speed', 'launch_angle']]"
   ]
  },
  {
   "cell_type": "code",
   "execution_count": null,
   "metadata": {},
   "outputs": [],
   "source": [
    "#order by release_speed\n",
    "df = df.sort_values(by=['release_speed'], ascending=False)"
   ]
  },
  {
   "cell_type": "code",
   "execution_count": null,
   "metadata": {},
   "outputs": [],
   "source": [
    "#insert VB AND HB\n",
    "df.insert(5, 'Vertical Break', df['pfx_z']*12)\n",
    "df.insert(6, 'Horizontal Break', df['pfx_x']*12)"
   ]
  },
  {
   "cell_type": "code",
   "execution_count": null,
   "metadata": {},
   "outputs": [],
   "source": [
    "#Replace all the Description values of hit_into_play values with the Events values\n",
    "df['description'] = np.where(df['description'] == 'hit_into_play', df['events'], df['description'])"
   ]
  },
  {
   "cell_type": "code",
   "execution_count": null,
   "metadata": {},
   "outputs": [],
   "source": [
    "#add strikeouts and walks to the description values from events\n",
    "df['description'] = np.where(df['events'] == 'strikeout', 'strikeout', df['description'])"
   ]
  },
  {
   "cell_type": "code",
   "execution_count": null,
   "metadata": {},
   "outputs": [],
   "source": [
    "#remove events column\n",
    "df = df.drop(['events'], axis=1)"
   ]
  },
  {
   "cell_type": "code",
   "execution_count": null,
   "metadata": {},
   "outputs": [],
   "source": [
    "#remove pfx_x and pfx_z\n",
    "df = df.drop(['pfx_x', 'pfx_z'], axis=1)"
   ]
  },
  {
   "cell_type": "code",
   "execution_count": null,
   "metadata": {},
   "outputs": [],
   "source": [
    "#import razzball.csv from desktop to get the player id and name\n",
    "df2 = pd.read_csv(\"/Users/johndavis/Desktop/razzball.csv\")"
   ]
  },
  {
   "cell_type": "code",
   "execution_count": null,
   "metadata": {},
   "outputs": [],
   "source": [
    "#rename MLBAMID to batter\n",
    "df2 = df2.rename(columns={'MLBAMID': 'batter'})"
   ]
  },
  {
   "cell_type": "code",
   "execution_count": null,
   "metadata": {},
   "outputs": [],
   "source": [
    "#Replace Name to Batter Name\n",
    "df2 = df2.rename(columns={'Name': 'Batter Name'})"
   ]
  },
  {
   "cell_type": "code",
   "execution_count": null,
   "metadata": {},
   "outputs": [],
   "source": [
    "#add a column to df called Batter Name which is the Batter Name from df2 that corresponds to the batter id from batter column in df\n",
    "df = df.merge(df2[['batter', 'Batter Name']], on='batter', how='left')"
   ]
  },
  {
   "cell_type": "code",
   "execution_count": null,
   "metadata": {},
   "outputs": [],
   "source": [
    "#create 2 new columns in df called Plate Side and Plate Height which are the plate_x and plate_z values * 12\n",
    "df['Plate Side'] = df['plate_x']*12\n",
    "df['Plate Height'] = df['plate_z']*12\n"
   ]
  },
  {
   "cell_type": "code",
   "execution_count": null,
   "metadata": {},
   "outputs": [],
   "source": [
    "df = df[['game_date','player_name','p_throws','pitch_type','release_speed','Vertical Break','Horizontal Break','release_spin_rate','release_pos_x','release_pos_z','release_pos_y','release_extension','Plate Height','Plate Side','description','Batter Name','hit_distance_sc', 'launch_speed', 'launch_angle']]"
   ]
  },
  {
   "cell_type": "code",
   "execution_count": null,
   "metadata": {},
   "outputs": [],
   "source": [
    "#change player name column to remove comma and have first name then last name instead of last name then first name\n",
    "df['player_name'] = df['player_name'].str.replace(',', '')\n",
    "df['player_name'] = df['player_name'].str.split().str[::-1].str.join(' ')"
   ]
  },
  {
   "cell_type": "code",
   "execution_count": null,
   "metadata": {},
   "outputs": [],
   "source": [
    "#change batter name in df2 to Name \n",
    "df2 = df2.rename(columns={'Batter Name': 'Name'})"
   ]
  },
  {
   "cell_type": "code",
   "execution_count": null,
   "metadata": {},
   "outputs": [],
   "source": [
    "#rename player_name to Pitcher Name\n",
    "df = df.rename(columns={'player_name': 'Pitcher Name'})"
   ]
  },
  {
   "cell_type": "code",
   "execution_count": null,
   "metadata": {},
   "outputs": [],
   "source": [
    "#put a new column next to Pitcher Name called Pitcher Team which is the Team Name from df2 that corresponds Pitcher Name from df\n",
    "df = df.merge(df2[['Name', 'Team']], left_on='Pitcher Name', right_on='Name', how='left')\n",
    "#put a new column next to Batter Name called Batter Team which is the Team Name from df2 that corresponds Batter Name from df\n",
    "df = df.merge(df2[['Name', 'Team']], left_on='Batter Name', right_on='Name', how='left')"
   ]
  },
  {
   "cell_type": "code",
   "execution_count": null,
   "metadata": {},
   "outputs": [],
   "source": [
    "df = df[['game_date','Pitcher Name','Team_x','p_throws','pitch_type','release_speed','Vertical Break','Horizontal Break','release_spin_rate','release_pos_x','release_pos_z','release_pos_y','release_extension','Plate Height','Plate Side','description','Batter Name','Team_y','hit_distance_sc', 'launch_speed', 'launch_angle']]"
   ]
  },
  {
   "cell_type": "code",
   "execution_count": null,
   "metadata": {},
   "outputs": [],
   "source": [
    "#rename Team_x to Pitcher Team and Team_y to Batter Team\n",
    "df = df.rename(columns={'Team_x': 'Pitcher Team', 'Team_y': 'Batter Team'})"
   ]
  },
  {
   "cell_type": "code",
   "execution_count": null,
   "metadata": {},
   "outputs": [],
   "source": [
    "df.columns"
   ]
  },
  {
   "cell_type": "code",
   "execution_count": null,
   "metadata": {},
   "outputs": [],
   "source": [
    "#create a new column called Ball in Play which gives a 1 if the description is either a field out, single, double, triple, or home run and a 0 if it is not\n",
    "df['Ball in Play'] = np.where(df['description'].isin(['field_out', 'single', 'double', 'triple', 'home_run']), 1, 0)"
   ]
  },
  {
   "cell_type": "code",
   "execution_count": null,
   "metadata": {},
   "outputs": [],
   "source": [
    "#create a new column called Strikeout which gives a 1 if the description is a strikeout and a 0 if it is not\n",
    "df['Strikeout'] = np.where(df['description'] == 'strikeout', 1, 0)"
   ]
  },
  {
   "cell_type": "code",
   "execution_count": null,
   "metadata": {},
   "outputs": [],
   "source": [
    "#create a new column called Hit which gives a 1 if the description is a hit and a 0 if it is not\n",
    "df['Hit'] = np.where(df['description'].isin(['single', 'double', 'triple', 'home_run']), 1, 0)"
   ]
  },
  {
   "cell_type": "code",
   "execution_count": null,
   "metadata": {},
   "outputs": [],
   "source": [
    "#create a new column called Walk which gives a 1 if the description is a walk and a 0 if it is not\n",
    "df['Walk'] = np.where(df['description'] == 'walk', 1, 0)"
   ]
  },
  {
   "cell_type": "code",
   "execution_count": null,
   "metadata": {},
   "outputs": [],
   "source": [
    "#create a new column called Hit by Pitch which gives a 1 if the description is a hit by pitch and a 0 if it is not\n",
    "df['Hit by Pitch'] = np.where(df['description'] == 'hit_by_pitch', 1, 0)"
   ]
  },
  {
   "cell_type": "code",
   "execution_count": null,
   "metadata": {},
   "outputs": [],
   "source": [
    "#create a new column called out which gives a 1 if the description is a field out or strikeout and a 0 if it is not\n",
    "df['Out'] = np.where(df['description'].isin(['field_out', 'strikeout']), 1, 0)"
   ]
  },
  {
   "cell_type": "code",
   "execution_count": null,
   "metadata": {},
   "outputs": [],
   "source": [
    "#list all possible description values\n",
    "df['description'].unique()"
   ]
  },
  {
   "cell_type": "code",
   "execution_count": null,
   "metadata": {},
   "outputs": [],
   "source": [
    "# assign run values to each description\n",
    "#Set Run Value for each Description\n",
    "home_run = 1.374328827219,\n",
    "triple = 1.05755624961515,\n",
    "double = 0.766083122898271,\n",
    "single = 0.467292970729251\n",
    "ball = 0.0636883289483747,\n",
    "hit_by_pitch = 0.0636883289483747,\n",
    "blocked_ball = 0.0636883289483747,\n",
    "catcher_interf = 0.0636883289483747,\n",
    "pitchout = 0.0636883289483747,\n",
    "foul = -0.0380502742575014,\n",
    "foul_tip = -0.0380502742575014,\n",
    "foul_bunt = -0.0380502742575014,\n",
    "bunt_foul_tip = -0.0380502742575014,\n",
    "called_strike = -0.065092516089806,\n",
    "swinging_strike = -0.118124935770601,\n",
    "strikeout = -0.118124935770601,\n",
    "swinging_strike_blocked = -0.118124935770601,\n",
    "force_out = -0.1955687665555,\n",
    "grounded_into_double_play = -0.1955687665555,\n",
    "fielders_choice_out = -0.1955687665555,\n",
    "fielders_choice = -0.1955687665555,\n",
    "field_out = -0.1955687665555,\n",
    "double_play = -0.1955687665555,\n",
    "sac_fly = -0.236889645519856,\n",
    "sac_bunt = -0.236889645519856,\n",
    "field_error = -0.236889645519856,\n",
    "catcher_interf = -0.789788814378052,\n",
    "sac_fly_double_play = -0.789788814378052,\n",
    "sac_bunt_double_play = -0.789788814378052,\n",
    "triple_play = -0.789788814378052,\n"
   ]
  },
  {
   "cell_type": "code",
   "execution_count": null,
   "metadata": {},
   "outputs": [],
   "source": [
    "#create a new column called Run Value which gives a run value for each description\n",
    "df['Run Value'] = np.select([\n",
    "    df['description'] == 'home_run',\n",
    "    df['description'] == 'triple',\n",
    "    df['description'] == 'double',\n",
    "    df['description'] == 'single',\n",
    "    df['description'] == 'ball',\n",
    "    df['description'] == 'hit_by_pitch',\n",
    "    df['description'] == 'blocked_ball',\n",
    "    df['description'] == 'catcher_interf',\n",
    "    df['description'] == 'pitchout',\n",
    "    df['description'] == 'foul',\n",
    "    df['description'] == 'foul_tip',\n",
    "    df['description'] == 'foul_bunt',\n",
    "    df['description'] == 'bunt_foul_tip',\n",
    "    df['description'] == 'called_strike',\n",
    "    df['description'] == 'swinging_strike',\n",
    "    df['description'] == 'strikeout',\n",
    "    df['description'] == 'swinging_strike_blocked',\n",
    "    df['description'] == 'force_out',\n",
    "    df['description'] == 'grounded_into_double_play',\n",
    "    df['description'] == 'fielders_choice_out',\n",
    "    df['description'] == 'fielders_choice',\n",
    "    df['description'] == 'field_out',\n",
    "    df['description'] == 'double_play',\n",
    "    df['description'] == 'sac_fly',\n",
    "    df['description'] == 'sac_bunt',\n",
    "    df['description'] == 'field_error',\n",
    "    df['description'] == 'catcher_interf',\n",
    "    df['description'] == 'sac_fly_double_play',\n",
    "    df['description'] == 'sac_bunt_double_play',\n",
    "    df['description'] == 'triple_play'\n",
    "], [\n",
    "    home_run,\n",
    "    triple,\n",
    "    double,\n",
    "    single,\n",
    "    ball,\n",
    "    hit_by_pitch,\n",
    "    blocked_ball,\n",
    "    catcher_interf,\n",
    "    pitchout,\n",
    "    foul,\n",
    "    foul_tip,\n",
    "    foul_bunt,\n",
    "    bunt_foul_tip,\n",
    "    called_strike,\n",
    "    swinging_strike,\n",
    "    strikeout,\n",
    "    swinging_strike_blocked,\n",
    "    force_out,\n",
    "    grounded_into_double_play,\n",
    "    fielders_choice_out,\n",
    "    fielders_choice,\n",
    "    field_out,\n",
    "    double_play,\n",
    "    sac_fly,\n",
    "    sac_bunt,\n",
    "    field_error,\n",
    "    catcher_interf,\n",
    "    sac_fly_double_play,\n",
    "    sac_bunt_double_play,\n",
    "    triple_play\n",
    "], 0)\n"
   ]
  },
  {
   "cell_type": "code",
   "execution_count": null,
   "metadata": {},
   "outputs": [],
   "source": [
    "#delete Ball in Play, Strikeout, Hit, Walk, Hit by Pitch, and Out columns\n",
    "df = df.drop(['Ball in Play', 'Strikeout', 'Hit', 'Walk', 'Hit by Pitch', 'Out'], axis=1)"
   ]
  },
  {
   "cell_type": "code",
   "execution_count": null,
   "metadata": {},
   "outputs": [],
   "source": [
    "#create a new dataframe df_avg which is the average of each pitch type release_speed, Vertical Break, Horizontal Break, release_spin_rate for each Pitcher Name with counts on every pitch type\n",
    "df_avg = df.groupby(['Pitcher Name', 'pitch_type']).agg({'release_speed': 'mean', 'release_spin_rate': 'mean', 'Vertical Break': 'mean', 'Horizontal Break': 'mean', 'release_pos_x': 'mean', 'release_pos_z':'mean','release_extension':'mean'}).reset_index()\n",
    "#create a new column called Pitch Count which is the count of each pitch type for each Pitcher Name\n",
    "df_avg['Pitch Count'] = df.groupby(['Pitcher Name', 'pitch_type']).size().reset_index(name='Pitch Count')['Pitch Count']\n"
   ]
  },
  {
   "cell_type": "code",
   "execution_count": null,
   "metadata": {},
   "outputs": [],
   "source": [
    "#order the Pitch Count column from highest to lowest\n",
    "df_avg = df_avg.sort_values(by=['Pitcher Name', 'Pitch Count'], ascending=False)\n"
   ]
  },
  {
   "cell_type": "code",
   "execution_count": null,
   "metadata": {},
   "outputs": [],
   "source": [
    "#reset index\n",
    "df_avg = df_avg.reset_index(drop=True)"
   ]
  },
  {
   "cell_type": "code",
   "execution_count": null,
   "metadata": {},
   "outputs": [],
   "source": [
    "#reorder columns so count is right of pitch type\n",
    "df_avg = df_avg[['Pitcher Name', 'pitch_type','Pitch Count', 'release_speed', 'release_spin_rate', 'Vertical Break', 'Horizontal Break','release_pos_x','release_pos_z','release_extension']]"
   ]
  },
  {
   "cell_type": "code",
   "execution_count": null,
   "metadata": {},
   "outputs": [],
   "source": [
    "#create a new column called Total Movement which is the sum of the absolute value of Vertical Break and Horizontal Break\n",
    "df_avg['Total Movement'] = df_avg['Vertical Break'].abs() + df_avg['Horizontal Break']"
   ]
  },
  {
   "cell_type": "code",
   "execution_count": null,
   "metadata": {},
   "outputs": [],
   "source": [
    "df_avg = df_avg[['Pitcher Name', 'pitch_type','Pitch Count', 'release_speed', 'release_spin_rate','Total Movement', 'Vertical Break', 'Horizontal Break','release_pos_x','release_pos_z','release_extension']]"
   ]
  },
  {
   "cell_type": "code",
   "execution_count": null,
   "metadata": {},
   "outputs": [],
   "source": [
    "#switch horizontal break so that it is positive when the ball breaks away from the batter\n",
    "df_avg['Horizontal Break'] = df_avg['Horizontal Break'] * -1"
   ]
  },
  {
   "cell_type": "code",
   "execution_count": null,
   "metadata": {},
   "outputs": [],
   "source": [
    "#seperate into new dataframes for each pitcher\n",
    "df_avg_Cole = df_avg[df_avg['Pitcher Name'] == 'Gerrit Cole']"
   ]
  },
  {
   "cell_type": "code",
   "execution_count": null,
   "metadata": {},
   "outputs": [],
   "source": [
    "#set df_avg_pitcher to 2 decimal places\n",
    "df_avg = df_avg.round(2)"
   ]
  },
  {
   "cell_type": "code",
   "execution_count": null,
   "metadata": {},
   "outputs": [],
   "source": [
    "# create a dictionary of the pitch types and their corresponding colors AND make each color different \n",
    "pitch_colors = {'FF': '#FF0000', 'SL': 'blue', 'CH': '#FFFF00', 'CU': '#008000', 'FT': '#0000FF', 'SI': '#4B0082', 'FC': '#EE82EE', 'FS': '#FF0000', 'KC': '#FFA500', 'KN': '#FFFF00', 'EP': '#008000', 'SC': '#0000FF', 'FO': '#4B0082', 'PO': '#EE82EE', 'AB': '#FF0000', 'UN': '#FFA500', 'FA': '#FFFF00', 'IN': '#008000'}\n",
    "pitch_types = ['FF', 'SL', 'CH', 'CU', 'FT', 'SI', 'FC', 'FS', 'KC', 'KN', 'EP', 'SC', 'FO', 'PO', 'AB', 'UN', 'FA', 'IN']\n"
   ]
  },
  {
   "cell_type": "code",
   "execution_count": null,
   "metadata": {},
   "outputs": [],
   "source": [
    "#import basic stats csv file from desktop\n",
    "df_stats = pd.read_csv(\"/Users/johndavis/Desktop/Basic_Stats.csv\",low_memory=False, encoding='latin-1')"
   ]
  },
  {
   "cell_type": "code",
   "execution_count": null,
   "metadata": {},
   "outputs": [],
   "source": [
    "#Remove the Ê character from the player names \n",
    "df_stats['Name'] = df_stats['Name'].str.replace('Ê', ' ')\n",
    "#remove the * from the player names\n",
    "df_stats['Name'] = df_stats['Name'].str.replace('*', ' ')"
   ]
  },
  {
   "cell_type": "code",
   "execution_count": null,
   "metadata": {},
   "outputs": [],
   "source": [
    "#change Name to Pitcher Name\n",
    "df_stats.rename(columns={'Name': 'Pitcher Name'}, inplace=True)"
   ]
  },
  {
   "cell_type": "code",
   "execution_count": null,
   "metadata": {},
   "outputs": [],
   "source": [
    "# if name repeats add IP from that row to the row with the same name and take the average of the other stats \n",
    "df_stats = df_stats.groupby('Pitcher Name').agg({'IP': 'sum', 'ERA': 'mean', 'FIP': 'mean', 'Age': 'mean'}).reset_index()"
   ]
  },
  {
   "cell_type": "code",
   "execution_count": null,
   "metadata": {},
   "outputs": [],
   "source": [
    "#using the same code as above, create an input box for the user to enter the name of the pitcher they want to see and create a plot for that pitcher\n",
    "def pitcher_plot(pitcher_name):\n",
    "    df_avg_pitcher = df_avg[df_avg['Pitcher Name'] == pitcher_name]\n",
    "    fig, ax = plt.subplots(figsize=(12, 8))\n",
    "    plt.style.use('fivethirtyeight')\n",
    "    plt.scatter( df_avg_pitcher['Horizontal Break'], df_avg_pitcher['Vertical Break'], c=df_avg_pitcher['pitch_type'].map(pitch_colors), s=600, alpha=0.5)\n",
    "    plt.axvline(x=0, color='black')\n",
    "    plt.axhline(y=0, color='black')\n",
    "    plt.xlim(-25, 25)\n",
    "    plt.ylim(-25, 25)\n",
    "    plt.xticks(range(-20, 25, 5), labels=[f\"{x}\\\"\" for x in range(-20, 25, 5)])\n",
    "    plt.yticks(range(-20, 25, 5), labels=[f\"{x}\\\"\" for x in range(-20, 25, 5)])\n",
    "    plt.xlabel('Horizontal Break (inches)')\n",
    "    plt.ylabel('Vertical Break (inches)')\n",
    "    plt.title(pitcher_name + ' Pitch Movement')\n",
    "    #put the two letter pitch type in the middle of each dot on the plot\n",
    "    for i, txt in enumerate(df_avg_pitcher['pitch_type']):\n",
    "        ax.annotate(txt, (df_avg_pitcher['Horizontal Break'].iloc[i], df_avg_pitcher['Vertical Break'].iloc[i]), ha='center', va='center')\n",
    "    #create a legend in the bottom right corner of the plot which has the average release speed, spin rate, and total movement for each pitch type\n",
    "    for pitch_type in pitch_types:\n",
    "        if pitch_type in df_avg_pitcher['pitch_type'].values:\n",
    "            plt.scatter([], [], c=pitch_colors[pitch_type], label=pitch_type + ' ' + str(df_avg_pitcher[df_avg_pitcher['pitch_type'] == pitch_type]['release_speed'].values[0]) + ' mph ')\n",
    "    plt.legend(scatterpoints=1, frameon=False, labelspacing=1, loc='lower right')\n",
    "    #change font to black\n",
    "    plt.rcParams['text.color'] = 'black'\n",
    "    plt.rcParams['axes.labelcolor'] = 'black'\n",
    "    plt.rcParams['xtick.color'] = 'black'\n",
    "    plt.rcParams['ytick.color'] = 'black'\n",
    "    #change the y axis numbers to black font\n",
    "    ax.tick_params(axis='y', colors='black')\n",
    "    #remove the basic stats from the plot\n",
    "    plt.rcParams['axes.facecolor'] = 'white'\n",
    "    plt.show()\n"
   ]
  },
  {
   "cell_type": "code",
   "execution_count": null,
   "metadata": {},
   "outputs": [],
   "source": [
    "#make a function that will create a pie chart for the user to see the percentage of each pitch type for a given pitcher\n",
    "def pitcher_pie(pitcher_name):\n",
    "    df_avg_pitcher = df_avg[df_avg['Pitcher Name'] == pitcher_name]\n",
    "    fig, ax = plt.subplots(figsize=(12, 8))\n",
    "    plt.style.use('fivethirtyeight')\n",
    "    #create a list of the pitch types and a list of the percentage of pitches that are that pitch type\n",
    "    pitch_types = df_avg_pitcher['pitch_type'].values\n",
    "    pitch_percent = df_avg_pitcher['Pitch Count'].values / df_avg_pitcher['Pitch Count'].sum() * 100\n",
    "    #create the pie chart\n",
    "    plt.pie(pitch_percent, labels=pitch_types, colors=[pitch_colors[x] for x in pitch_types], autopct='%1.1f%%', startangle=90)\n",
    "    plt.title(pitcher_name + ' Pitch Distribution')\n",
    "   #never repeat the same color in the pie chart\n",
    "    plt.rcParams['axes.prop_cycle'] = plt.cycler(color=pitch_colors.values())\n",
    "    #make FS and FF different colors\n",
    "    plt.rcParams['axes.prop_cycle']\n",
    "    plt.show()\n",
    "        "
   ]
  },
  {
   "cell_type": "code",
   "execution_count": null,
   "metadata": {},
   "outputs": [],
   "source": [
    "#import basic stats csv file from desktop\n",
    "df_stats = pd.read_csv(\"/Users/johndavis/Desktop/Basic_Stats.csv\",low_memory=False, encoding='latin-1')"
   ]
  },
  {
   "cell_type": "code",
   "execution_count": null,
   "metadata": {},
   "outputs": [],
   "source": [
    "#Remove the Ê character from the player names \n",
    "df_stats['Name'] = df_stats['Name'].str.replace('Ê', ' ')"
   ]
  },
  {
   "cell_type": "code",
   "execution_count": null,
   "metadata": {},
   "outputs": [],
   "source": [
    "#remove the * from the player names\n",
    "df_stats['Name'] = df_stats['Name'].str.replace('*', ' ')"
   ]
  },
  {
   "cell_type": "code",
   "execution_count": null,
   "metadata": {},
   "outputs": [],
   "source": [
    "#change Name to Pitcher Name\n",
    "df_stats.rename(columns={'Name': 'Pitcher Name'}, inplace=True)"
   ]
  },
  {
   "cell_type": "code",
   "execution_count": null,
   "metadata": {},
   "outputs": [],
   "source": [
    "# if name repeats add IP from that row to the row with the same name and take the average of the other stats \n",
    "df_stats = df_stats.groupby('Pitcher Name').agg({'IP': 'sum', 'ERA': 'mean', 'FIP': 'mean', 'Age': 'mean'}).reset_index()\n"
   ]
  },
  {
   "cell_type": "code",
   "execution_count": null,
   "metadata": {},
   "outputs": [],
   "source": [
    "#reorder the columns so age is right of the pitcher name\n",
    "df_stats = df_stats[['Pitcher Name', 'Age', 'IP', 'ERA', 'FIP']]"
   ]
  },
  {
   "cell_type": "code",
   "execution_count": null,
   "metadata": {},
   "outputs": [],
   "source": [
    "#create a function that displays a visual table of the stats for a given pitcher\n",
    "def pitcher_stats(pitcher_name):\n",
    "    df_stats_avg = df_stats[df_stats['Pitcher Name'] == pitcher_name]\n",
    "    fig, ax = plt.subplots(figsize=(12, 8))\n",
    "    plt.style.use('fivethirtyeight')\n",
    "    #create a table with the stats for the given pitcher\n",
    "    table = plt.table(cellText=df_stats_avg.values, colLabels=df_stats_avg.columns, loc='center')\n",
    "    table.set_fontsize(14)\n",
    "    table.scale(1, 2)\n",
    "    ax.axis('off')\n",
    "    #order the visual so that age is first, then IP, then ERA, then FIP\n",
    "    ax.xaxis.set_visible(False)\n",
    "    ax.yaxis.set_visible(False)\n",
    "    \n",
    "\n",
    "    plt.title(pitcher_name + ' Stats')\n",
    "    plt.show()\n",
    "\n",
    "    "
   ]
  },
  {
   "cell_type": "code",
   "execution_count": null,
   "metadata": {},
   "outputs": [],
   "source": [
    "# create a function that will plot release_pos_x and release_pos_z for a given pitcher for each pitch type\n",
    "def pitcher_release(pitcher_name):\n",
    "    df_avg_pitcher = df_avg[df_avg['Pitcher Name'] == pitcher_name]\n",
    "    fig, ax = plt.subplots(figsize=(12, 8))\n",
    "    plt.style.use('fivethirtyeight')\n",
    "    #create a scatter plot for each pitch type\n",
    "    for pitch_type in pitch_types:\n",
    "        if pitch_type in df_avg_pitcher['pitch_type'].values:\n",
    "            plt.scatter(df_avg_pitcher[df_avg_pitcher['pitch_type'] == pitch_type]['release_pos_x'], df_avg_pitcher[df_avg_pitcher['pitch_type'] == pitch_type]['release_pos_z'], c=pitch_colors[pitch_type], s=600, alpha=0.5, label=pitch_type)\n",
    "    plt.axvline(x=0, color='black')\n",
    "    plt.axhline(y=0, color='black')\n",
    "    plt.xlim(-3, 3)\n",
    "    plt.ylim(-3, 3)\n",
    "    plt.xlabel('Horizontal Release (feet)')\n",
    "    plt.ylabel('Vertical Release (feet)')\n",
    "    plt.title(pitcher_name + ' Release Position')\n",
    "    plt.legend(scatterpoints=1, frameon=False, labelspacing=1, loc='lower right')\n",
    "    #change font to black\n",
    "    plt.rcParams['text.color'] = 'black'\n",
    "    plt.rcParams['axes.labelcolor'] = 'black'\n",
    "    plt.rcParams['xtick.color'] = 'black'\n",
    "    plt.rcParams['ytick.color'] = 'black'\n",
    "    #change the y axis numbers to black font\n",
    "    ax.tick_params(axis='y', colors='black')\n",
    "    plt.show()"
   ]
  },
  {
   "cell_type": "code",
   "execution_count": null,
   "metadata": {},
   "outputs": [],
   "source": [
    "#create a function with a visual table of pitch type, release speed, spin rate, Vertical Break, Horizontal Break, for a given pitcher do not include total movement\n",
    "def pitcher_table(pitcher_name):\n",
    "    df_avg_pitcher = df_avg[df_avg['Pitcher Name'] == pitcher_name]\n",
    "    fig, ax = plt.subplots(figsize=(12, 8))\n",
    "    plt.style.use('fivethirtyeight')\n",
    "    #create a table with the stats for the given pitcher\n",
    "    table = plt.table(cellText=df_avg_pitcher[['pitch_type', 'release_speed', 'release_spin_rate', 'Vertical Break', 'Horizontal Break']].values, colLabels=df_avg_pitcher[['pitch_type', 'release_speed', 'release_spin_rate', 'Vertical Break', 'Horizontal Break']].columns, loc='center')\n",
    "    table.set_fontsize(14)\n",
    "    table.scale(1, 2)\n",
    "    ax.axis('off')\n",
    "    plt.title(pitcher_name + ' Pitch Stats')\n",
    "    plt.show()"
   ]
  },
  {
   "cell_type": "code",
   "execution_count": null,
   "metadata": {},
   "outputs": [],
   "source": [
    "#create a function called total_pitcher which combines the pitcher_plot, pitcher_pie, pitcher_stats,and pitcher_table functions\n",
    "def total_pitcher(pitcher_name):\n",
    "    pitcher_stats(pitcher_name)\n",
    "    pitcher_plot(pitcher_name)\n",
    "    pitcher_pie(pitcher_name)\n",
    "    pitcher_table(pitcher_name)"
   ]
  },
  {
   "cell_type": "code",
   "execution_count": null,
   "metadata": {},
   "outputs": [],
   "source": [
    "total_pitcher('Gerrit Cole')"
   ]
  }
 ],
 "metadata": {
  "kernelspec": {
   "display_name": "Python 3.9.13 ('base')",
   "language": "python",
   "name": "python3"
  },
  "language_info": {
   "codemirror_mode": {
    "name": "ipython",
    "version": 3
   },
   "file_extension": ".py",
   "mimetype": "text/x-python",
   "name": "python",
   "nbconvert_exporter": "python",
   "pygments_lexer": "ipython3",
   "version": "3.9.13"
  },
  "orig_nbformat": 4,
  "vscode": {
   "interpreter": {
    "hash": "ece8b02e9fc008d2bf4aaa30f9b06cdaffafe92b71d54bfc844a320ee0701ab8"
   }
  }
 },
 "nbformat": 4,
 "nbformat_minor": 2
}
